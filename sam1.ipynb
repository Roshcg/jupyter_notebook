{
 "cells": [
  {
   "cell_type": "code",
   "execution_count": 2,
   "id": "8f4dcc58",
   "metadata": {
    "scrolled": true
   },
   "outputs": [],
   "source": [
    "import numpy as np"
   ]
  },
  {
   "cell_type": "code",
   "execution_count": 3,
   "id": "55a47d35",
   "metadata": {},
   "outputs": [],
   "source": [
    "import matplotlib"
   ]
  },
  {
   "cell_type": "code",
   "execution_count": 4,
   "id": "1d665c60",
   "metadata": {},
   "outputs": [],
   "source": [
    "import matplotlib.pyplot as plt"
   ]
  },
  {
   "cell_type": "code",
   "execution_count": 5,
   "id": "d097e8d5",
   "metadata": {},
   "outputs": [],
   "source": [
    "X = 2 * np.random.rand(100, 1)"
   ]
  },
  {
   "cell_type": "code",
   "execution_count": 6,
   "id": "5bb17d6f",
   "metadata": {
    "scrolled": true
   },
   "outputs": [
    {
     "data": {
      "text/plain": [
       "array([[1.66562446],\n",
       "       [1.61665576],\n",
       "       [1.42292545],\n",
       "       [0.1236225 ],\n",
       "       [1.55140247],\n",
       "       [0.35357405],\n",
       "       [1.4313902 ],\n",
       "       [0.02653392],\n",
       "       [1.20509911],\n",
       "       [1.10307183],\n",
       "       [1.33210895],\n",
       "       [0.30032225],\n",
       "       [0.13370473],\n",
       "       [0.53806944],\n",
       "       [1.89223262],\n",
       "       [1.82155509],\n",
       "       [1.23437972],\n",
       "       [0.6210942 ],\n",
       "       [1.17033571],\n",
       "       [0.47644525],\n",
       "       [0.36104993],\n",
       "       [1.44803253],\n",
       "       [0.28483421],\n",
       "       [1.62764532],\n",
       "       [0.68253578],\n",
       "       [0.79415175],\n",
       "       [0.01823502],\n",
       "       [1.66409328],\n",
       "       [0.379277  ],\n",
       "       [0.24240132],\n",
       "       [0.28403839],\n",
       "       [1.53922268],\n",
       "       [0.60470003],\n",
       "       [1.56003968],\n",
       "       [1.37910752],\n",
       "       [1.77991153],\n",
       "       [1.32646637],\n",
       "       [1.67734663],\n",
       "       [0.92244842],\n",
       "       [0.65707882],\n",
       "       [1.06593876],\n",
       "       [0.74087242],\n",
       "       [1.52403906],\n",
       "       [0.68019164],\n",
       "       [1.34792671],\n",
       "       [0.62866319],\n",
       "       [0.27034023],\n",
       "       [1.27687418],\n",
       "       [0.09276596],\n",
       "       [1.71227268],\n",
       "       [1.56105646],\n",
       "       [1.34617704],\n",
       "       [1.01294676],\n",
       "       [0.47336634],\n",
       "       [1.21610417],\n",
       "       [1.0781948 ],\n",
       "       [0.62775129],\n",
       "       [0.11023905],\n",
       "       [1.1486339 ],\n",
       "       [1.76938043],\n",
       "       [1.9142543 ],\n",
       "       [1.77138916],\n",
       "       [1.11855837],\n",
       "       [0.54851135],\n",
       "       [1.19339735],\n",
       "       [0.53530552],\n",
       "       [0.05977639],\n",
       "       [1.72625625],\n",
       "       [0.36299292],\n",
       "       [1.61469516],\n",
       "       [1.947369  ],\n",
       "       [1.92141634],\n",
       "       [0.66844327],\n",
       "       [0.08348771],\n",
       "       [0.34157464],\n",
       "       [1.94329904],\n",
       "       [0.84371283],\n",
       "       [0.14550288],\n",
       "       [0.91226535],\n",
       "       [1.27963649],\n",
       "       [1.17106203],\n",
       "       [1.71689347],\n",
       "       [0.00621319],\n",
       "       [0.84862778],\n",
       "       [0.759064  ],\n",
       "       [0.53078022],\n",
       "       [1.68766594],\n",
       "       [0.19147852],\n",
       "       [0.2386752 ],\n",
       "       [1.15458368],\n",
       "       [1.78791749],\n",
       "       [0.59283336],\n",
       "       [0.10922264],\n",
       "       [1.46716276],\n",
       "       [0.18994053],\n",
       "       [0.5057449 ],\n",
       "       [0.23730486],\n",
       "       [1.57991297],\n",
       "       [1.55271819],\n",
       "       [0.18856821]])"
      ]
     },
     "execution_count": 6,
     "metadata": {},
     "output_type": "execute_result"
    }
   ],
   "source": [
    "X"
   ]
  },
  {
   "cell_type": "code",
   "execution_count": 7,
   "id": "e4342913",
   "metadata": {},
   "outputs": [],
   "source": [
    "y = 4 + 3 * np.random.randn(100, 1)"
   ]
  },
  {
   "cell_type": "code",
   "execution_count": 8,
   "id": "5be59e13",
   "metadata": {
    "scrolled": true
   },
   "outputs": [
    {
     "data": {
      "text/plain": [
       "array([[ 2.55986051],\n",
       "       [ 5.22156712],\n",
       "       [ 5.92600802],\n",
       "       [ 4.49100411],\n",
       "       [ 2.73726197],\n",
       "       [ 3.0301589 ],\n",
       "       [ 2.88292874],\n",
       "       [10.34848532],\n",
       "       [ 4.09170324],\n",
       "       [ 3.04999108],\n",
       "       [ 3.80169217],\n",
       "       [ 1.21230536],\n",
       "       [ 5.27970397],\n",
       "       [ 6.58142137],\n",
       "       [-3.35225067],\n",
       "       [ 5.65775287],\n",
       "       [ 6.51067198],\n",
       "       [10.4192749 ],\n",
       "       [ 6.27982823],\n",
       "       [ 6.36535694],\n",
       "       [ 4.44130383],\n",
       "       [-2.90330546],\n",
       "       [-1.71129389],\n",
       "       [ 3.59529159],\n",
       "       [ 1.09816721],\n",
       "       [ 3.96271742],\n",
       "       [ 4.44941275],\n",
       "       [-0.57352315],\n",
       "       [ 3.40789765],\n",
       "       [ 1.56787184],\n",
       "       [ 6.09920599],\n",
       "       [ 3.52745917],\n",
       "       [ 2.98875745],\n",
       "       [ 4.42529773],\n",
       "       [ 7.59899282],\n",
       "       [ 2.16715695],\n",
       "       [ 6.12287049],\n",
       "       [ 0.74658759],\n",
       "       [ 5.16570065],\n",
       "       [ 1.81220626],\n",
       "       [ 3.59385086],\n",
       "       [ 1.91571313],\n",
       "       [ 3.6888645 ],\n",
       "       [ 5.62061715],\n",
       "       [-3.08553943],\n",
       "       [ 5.71939795],\n",
       "       [ 4.39399597],\n",
       "       [ 2.14674665],\n",
       "       [ 6.82660094],\n",
       "       [ 6.37442196],\n",
       "       [10.96996062],\n",
       "       [ 5.81985757],\n",
       "       [ 5.26181347],\n",
       "       [-1.54694529],\n",
       "       [ 2.75499521],\n",
       "       [ 7.15505953],\n",
       "       [ 5.10655144],\n",
       "       [ 2.72646648],\n",
       "       [ 0.43090915],\n",
       "       [ 3.87560943],\n",
       "       [-1.18835747],\n",
       "       [ 3.26543686],\n",
       "       [ 8.85537071],\n",
       "       [ 5.34442713],\n",
       "       [ 2.05515645],\n",
       "       [ 7.79471994],\n",
       "       [ 4.91560881],\n",
       "       [ 3.64965153],\n",
       "       [ 4.01839423],\n",
       "       [ 3.30692423],\n",
       "       [ 2.97839843],\n",
       "       [ 1.28181822],\n",
       "       [ 6.7140285 ],\n",
       "       [ 2.50792596],\n",
       "       [ 4.52039048],\n",
       "       [ 2.2455049 ],\n",
       "       [ 3.2962914 ],\n",
       "       [11.51407554],\n",
       "       [ 3.15889867],\n",
       "       [ 5.67641668],\n",
       "       [ 4.357608  ],\n",
       "       [ 2.80986384],\n",
       "       [ 4.25382189],\n",
       "       [ 4.18176931],\n",
       "       [ 3.48452799],\n",
       "       [ 0.26229498],\n",
       "       [ 3.79592322],\n",
       "       [-0.17593572],\n",
       "       [ 4.70005954],\n",
       "       [ 9.64554299],\n",
       "       [ 5.21599995],\n",
       "       [ 3.14246039],\n",
       "       [ 4.09247848],\n",
       "       [ 5.92627067],\n",
       "       [ 4.70156533],\n",
       "       [ 3.06328562],\n",
       "       [ 3.94864618],\n",
       "       [-0.5510715 ],\n",
       "       [ 2.89667262],\n",
       "       [ 3.14445246]])"
      ]
     },
     "execution_count": 8,
     "metadata": {},
     "output_type": "execute_result"
    }
   ],
   "source": [
    "y"
   ]
  },
  {
   "cell_type": "code",
   "execution_count": 9,
   "id": "ebe4c22a",
   "metadata": {},
   "outputs": [
    {
     "data": {
      "text/plain": [
       "(array([ 3.,  5.,  5., 11., 30., 21., 16.,  3.,  2.,  4.]),\n",
       " array([-3.35225067, -1.86561805, -0.37898543,  1.10764719,  2.59427981,\n",
       "         4.08091243,  5.56754505,  7.05417767,  8.54081029, 10.02744291,\n",
       "        11.51407554]),\n",
       " <BarContainer object of 10 artists>)"
      ]
     },
     "execution_count": 9,
     "metadata": {},
     "output_type": "execute_result"
    },
    {
     "data": {
      "image/png": "[encoded data removed]",
      "text/plain": [
       "<Figure size 432x288 with 1 Axes>"
      ]
     },
     "metadata": {
      "needs_background": "light"
     },
     "output_type": "display_data"
    }
   ],
   "source": [
    "plt.hist(y)\n"
   ]
  },
  {
   "cell_type": "code",
   "execution_count": 10,
   "id": "8521d7b9",
   "metadata": {},
   "outputs": [
    {
     "data": {
      "text/plain": [
       "(array([14., 12.,  7., 11.,  5.,  8., 11.,  9., 13., 10.]),\n",
       " array([0.00621319, 0.20032877, 0.39444435, 0.58855993, 0.78267551,\n",
       "        0.97679109, 1.17090668, 1.36502226, 1.55913784, 1.75325342,\n",
       "        1.947369  ]),\n",
       " <BarContainer object of 10 artists>)"
      ]
     },
     "execution_count": 10,
     "metadata": {},
     "output_type": "execute_result"
    },
    {
     "data": {
      "image/png": "[encoded data removed]",
      "text/plain": [
       "<Figure size 432x288 with 1 Axes>"
      ]
     },
     "metadata": {
      "needs_background": "light"
     },
     "output_type": "display_data"
    }
   ],
   "source": [
    "plt.hist(X)"
   ]
  },
  {
   "cell_type": "code",
   "execution_count": 31,
   "id": "4a64671a",
   "metadata": {},
   "outputs": [],
   "source": [
    "a = np.ones(4)\n",
    "b = np.zeros((4,5))"
   ]
  },
  {
   "cell_type": "code",
   "execution_count": 32,
   "id": "c60b2ac6",
   "metadata": {},
   "outputs": [
    {
     "data": {
      "text/plain": [
       "array([1., 1., 1., 1.])"
      ]
     },
     "execution_count": 32,
     "metadata": {},
     "output_type": "execute_result"
    }
   ],
   "source": [
    "a"
   ]
  },
  {
   "cell_type": "code",
   "execution_count": 33,
   "id": "951984cb",
   "metadata": {},
   "outputs": [
    {
     "data": {
      "text/plain": [
       "array([[0., 0., 0., 0., 0.],\n",
       "       [0., 0., 0., 0., 0.],\n",
       "       [0., 0., 0., 0., 0.],\n",
       "       [0., 0., 0., 0., 0.]])"
      ]
     },
     "execution_count": 33,
     "metadata": {},
     "output_type": "execute_result"
    }
   ],
   "source": [
    "b"
   ]
  },
  {
   "cell_type": "code",
   "execution_count": 35,
   "id": "8371dff5",
   "metadata": {},
   "outputs": [
    {
     "data": {
      "text/plain": [
       "array([[1., 0., 0., 0., 0., 0.],\n",
       "       [1., 0., 0., 0., 0., 0.],\n",
       "       [1., 0., 0., 0., 0., 0.],\n",
       "       [1., 0., 0., 0., 0., 0.]])"
      ]
     },
     "execution_count": 35,
     "metadata": {},
     "output_type": "execute_result"
    }
   ],
   "source": [
    "cll = np.c_[a,b]\n",
    "cll"
   ]
  },
  {
   "cell_type": "code",
   "execution_count": 36,
   "id": "338adac0",
   "metadata": {},
   "outputs": [],
   "source": [
    "X_new = np.array([[0], [2]])"
   ]
  },
  {
   "cell_type": "code",
   "execution_count": 37,
   "id": "ae9d8395",
   "metadata": {},
   "outputs": [],
   "source": [
    "X_new_b = np.c_[np.ones((2, 1)), X_new]"
   ]
  },
  {
   "cell_type": "code",
   "execution_count": 39,
   "id": "2d7155e7",
   "metadata": {},
   "outputs": [
    {
     "data": {
      "text/plain": [
       "array([[1., 0.],\n",
       "       [1., 2.]])"
      ]
     },
     "execution_count": 39,
     "metadata": {},
     "output_type": "execute_result"
    }
   ],
   "source": [
    "X_new_b"
   ]
  }
 ],
 "metadata": {
  "kernelspec": {
   "display_name": "Python 3 (ipykernel)",
   "language": "python",
   "name": "python3"
  },
  "language_info": {
   "codemirror_mode": {
    "name": "ipython",
    "version": 3
   },
   "file_extension": ".py",
   "mimetype": "text/x-python",
   "name": "python",
   "nbconvert_exporter": "python",
   "pygments_lexer": "ipython3",
   "version": "3.8.10"
  }
 },
 "nbformat": 4,
 "nbformat_minor": 5
}
