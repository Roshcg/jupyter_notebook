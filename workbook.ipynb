{
 "cells": [
  {
   "cell_type": "code",
   "execution_count": 30,
   "id": "773dac02",
   "metadata": {},
   "outputs": [],
   "source": [
    "import os"
   ]
  },
  {
   "cell_type": "code",
   "execution_count": 31,
   "id": "a0438e44",
   "metadata": {},
   "outputs": [],
   "source": [
    "import subprocess"
   ]
  },
  {
   "cell_type": "code",
   "execution_count": 32,
   "id": "58641ba4",
   "metadata": {},
   "outputs": [
    {
     "data": {
      "text/plain": [
       "'/home/m1049296/Downloads/rosh/jupyterr'"
      ]
     },
     "execution_count": 32,
     "metadata": {},
     "output_type": "execute_result"
    }
   ],
   "source": [
    "os.getcwd()"
   ]
  },
  {
   "cell_type": "code",
   "execution_count": 33,
   "id": "8ecff810",
   "metadata": {},
   "outputs": [],
   "source": [
    "!touch file.txt"
   ]
  },
  {
   "cell_type": "code",
   "execution_count": 34,
   "id": "9e2daeff",
   "metadata": {},
   "outputs": [],
   "source": [
    "!cat file.txt"
   ]
  },
  {
   "cell_type": "code",
   "execution_count": null,
   "id": "5e7c4b3e",
   "metadata": {},
   "outputs": [],
   "source": []
  },
  {
   "cell_type": "code",
   "execution_count": null,
   "id": "ef7b5f0c",
   "metadata": {},
   "outputs": [],
   "source": []
  },
  {
   "cell_type": "code",
   "execution_count": 35,
   "id": "2ead74a9",
   "metadata": {},
   "outputs": [
    {
     "data": {
      "text/plain": [
       "environ{'SHELL': '/bin/bash',\n",
       "        'SESSION_MANAGER': 'local/A2ML36135L:@/tmp/.ICE-unix/1745,unix/A2ML36135L:/tmp/.ICE-unix/1745',\n",
       "        'QT_ACCESSIBILITY': '1',\n",
       "        'COLORTERM': 'truecolor',\n",
       "        'XDG_CONFIG_DIRS': '/etc/xdg/xdg-ubuntu:/etc/xdg',\n",
       "        'XDG_MENU_PREFIX': 'gnome-',\n",
       "        'GNOME_DESKTOP_SESSION_ID': 'this-is-deprecated',\n",
       "        'CONDA_EXE': '/home/m1049296/anaconda3/bin/conda',\n",
       "        '_CE_M': '',\n",
       "        'LANGUAGE': 'en_IN:en',\n",
       "        'GNOME_SHELL_SESSION_MODE': 'ubuntu',\n",
       "        'SSH_AUTH_SOCK': '/run/user/1000/keyring/ssh',\n",
       "        'XMODIFIERS': '@im=ibus',\n",
       "        'DESKTOP_SESSION': 'ubuntu',\n",
       "        'SSH_AGENT_PID': '1694',\n",
       "        'GTK_MODULES': 'gail:atk-bridge',\n",
       "        'PWD': '/home/m1049296',\n",
       "        'LOGNAME': 'm1049296',\n",
       "        'XDG_SESSION_DESKTOP': 'ubuntu',\n",
       "        'XDG_SESSION_TYPE': 'x11',\n",
       "        'GPG_AGENT_INFO': '/run/user/1000/gnupg/S.gpg-agent:0:1',\n",
       "        'XAUTHORITY': '/run/user/1000/gdm/Xauthority',\n",
       "        'GJS_DEBUG_TOPICS': 'JS ERROR;JS LOG',\n",
       "        'WINDOWPATH': '2',\n",
       "        'SQLALCHEMY_DATABASE_URI': 'sqlite:///site.db',\n",
       "        'HOME': '/home/m1049296',\n",
       "        'USERNAME': 'm1049296',\n",
       "        'IM_CONFIG_PHASE': '1',\n",
       "        'LANG': 'en_IN',\n",
       "        'LS_COLORS': 'rs=0:di=01;34:ln=01;36:mh=00:pi=40;33:so=01;35:do=01;35:bd=40;33;01:cd=40;33;01:or=40;31;01:mi=00:su=37;41:sg=30;43:ca=30;41:tw=30;42:ow=34;42:st=37;44:ex=01;32:*.tar=01;31:*.tgz=01;31:*.arc=01;31:*.arj=01;31:*.taz=01;31:*.lha=01;31:*.lz4=01;31:*.lzh=01;31:*.lzma=01;31:*.tlz=01;31:*.txz=01;31:*.tzo=01;31:*.t7z=01;31:*.zip=01;31:*.z=01;31:*.dz=01;31:*.gz=01;31:*.lrz=01;31:*.lz=01;31:*.lzo=01;31:*.xz=01;31:*.zst=01;31:*.tzst=01;31:*.bz2=01;31:*.bz=01;31:*.tbz=01;31:*.tbz2=01;31:*.tz=01;31:*.deb=01;31:*.rpm=01;31:*.jar=01;31:*.war=01;31:*.ear=01;31:*.sar=01;31:*.rar=01;31:*.alz=01;31:*.ace=01;31:*.zoo=01;31:*.cpio=01;31:*.7z=01;31:*.rz=01;31:*.cab=01;31:*.wim=01;31:*.swm=01;31:*.dwm=01;31:*.esd=01;31:*.jpg=01;35:*.jpeg=01;35:*.mjpg=01;35:*.mjpeg=01;35:*.gif=01;35:*.bmp=01;35:*.pbm=01;35:*.pgm=01;35:*.ppm=01;35:*.tga=01;35:*.xbm=01;35:*.xpm=01;35:*.tif=01;35:*.tiff=01;35:*.png=01;35:*.svg=01;35:*.svgz=01;35:*.mng=01;35:*.pcx=01;35:*.mov=01;35:*.mpg=01;35:*.mpeg=01;35:*.m2v=01;35:*.mkv=01;35:*.webm=01;35:*.ogm=01;35:*.mp4=01;35:*.m4v=01;35:*.mp4v=01;35:*.vob=01;35:*.qt=01;35:*.nuv=01;35:*.wmv=01;35:*.asf=01;35:*.rm=01;35:*.rmvb=01;35:*.flc=01;35:*.avi=01;35:*.fli=01;35:*.flv=01;35:*.gl=01;35:*.dl=01;35:*.xcf=01;35:*.xwd=01;35:*.yuv=01;35:*.cgm=01;35:*.emf=01;35:*.ogv=01;35:*.ogx=01;35:*.aac=00;36:*.au=00;36:*.flac=00;36:*.m4a=00;36:*.mid=00;36:*.midi=00;36:*.mka=00;36:*.mp3=00;36:*.mpc=00;36:*.ogg=00;36:*.ra=00;36:*.wav=00;36:*.oga=00;36:*.opus=00;36:*.spx=00;36:*.xspf=00;36:',\n",
       "        'XDG_CURRENT_DESKTOP': 'ubuntu:GNOME',\n",
       "        'VTE_VERSION': '6003',\n",
       "        'SECRET_KEY': '343455466bfde33455009',\n",
       "        'GNOME_TERMINAL_SCREEN': '/org/gnome/Terminal/screen/e8539309_a1e1_47d0_9e5f_053898325b39',\n",
       "        'INVOCATION_ID': 'ef94a428bbc04922a276db43dc09c131',\n",
       "        'MANAGERPID': '1513',\n",
       "        'GJS_DEBUG_OUTPUT': 'stderr',\n",
       "        'LESSCLOSE': '/usr/bin/lesspipe %s %s',\n",
       "        'XDG_SESSION_CLASS': 'user',\n",
       "        'TERM': 'xterm-color',\n",
       "        '_CE_CONDA': '',\n",
       "        'LESSOPEN': '| /usr/bin/lesspipe %s',\n",
       "        'USER': 'm1049296',\n",
       "        'GNOME_TERMINAL_SERVICE': ':1.569',\n",
       "        'CONDA_SHLVL': '0',\n",
       "        'DISPLAY': ':0',\n",
       "        'SHLVL': '1',\n",
       "        'QT_IM_MODULE': 'ibus',\n",
       "        'CONDA_PYTHON_EXE': '/home/m1049296/anaconda3/bin/python',\n",
       "        'XDG_RUNTIME_DIR': '/run/user/1000',\n",
       "        'JOURNAL_STREAM': '8:51586',\n",
       "        'XDG_DATA_DIRS': '/usr/share/ubuntu:/usr/local/share/:/usr/share/:/var/lib/snapd/desktop',\n",
       "        'PATH': '/home/m1049296/anaconda3/condabin:/home/m1049296/.local/bin:/usr/local/sbin:/usr/local/bin:/usr/sbin:/usr/bin:/sbin:/bin:/usr/games:/usr/local/games:/snap/bin',\n",
       "        'GDMSESSION': 'ubuntu',\n",
       "        'DBUS_SESSION_BUS_ADDRESS': 'unix:path=/run/user/1000/bus',\n",
       "        '_': '/home/m1049296/.local/bin/jupyter',\n",
       "        'JPY_PARENT_PID': '218554',\n",
       "        'CLICOLOR': '1',\n",
       "        'PAGER': 'cat',\n",
       "        'GIT_PAGER': 'cat',\n",
       "        'MPLBACKEND': 'module://matplotlib_inline.backend_inline'}"
      ]
     },
     "execution_count": 35,
     "metadata": {},
     "output_type": "execute_result"
    }
   ],
   "source": [
    "os.environ"
   ]
  },
  {
   "cell_type": "code",
   "execution_count": 36,
   "id": "5a891f89",
   "metadata": {},
   "outputs": [
    {
     "data": {
      "text/plain": [
       "0"
      ]
     },
     "execution_count": 36,
     "metadata": {},
     "output_type": "execute_result"
    }
   ],
   "source": [
    "subprocess.call(['cat', 'file.txt'])"
   ]
  },
  {
   "cell_type": "code",
   "execution_count": 37,
   "id": "589982f0",
   "metadata": {},
   "outputs": [],
   "source": [
    "from subprocess import Popen, PIPE"
   ]
  },
  {
   "cell_type": "code",
   "execution_count": 38,
   "id": "df984239",
   "metadata": {},
   "outputs": [
    {
     "name": "stdout",
     "output_type": "stream",
     "text": [
      "total 51856\n",
      "-rw-rw-r-- 1 m1049296 m1049296    13580 Oct 21 22:05 decision_tree.ipynb\n",
      "-rw-rw-r-- 1 m1049296 m1049296        0 Jan  2 00:17 file.txt\n",
      "-rw-rw-r-- 1 m1049296 m1049296    68427 Oct 30 22:38 kag_course_intermmediate_categorical_values.ipynb\n",
      "drwxrwxr-x 3 m1049296 m1049296     4096 Oct 15 10:51 kaggle_intro_to_ML\n",
      "-rw-rw-r-- 1 m1049296 m1049296    23537 Nov  5 16:39 pandas_kaggle_exercises.ipynb\n",
      "-rw-rw-r-- 1 m1049296 m1049296    22881 Sep 17 10:10 sam1.ipynb\n",
      "-rw-rw-r-- 1 m1049296 m1049296    18622 Oct  3 00:34 SVM.ipynb\n",
      "-rw-rw-r-- 1 m1049296 m1049296      589 Oct 21 20:12 Untitled1.ipynb\n",
      "-rw-rw-r-- 1 m1049296 m1049296 52908706 Oct  3  2019 winemag-data-130k-v2.csv\n",
      "-rw-rw-r-- 1 m1049296 m1049296    22132 Jan  2 00:16 workbook.ipynb\n"
     ]
    },
    {
     "data": {
      "text/plain": [
       "0"
      ]
     },
     "execution_count": 38,
     "metadata": {},
     "output_type": "execute_result"
    }
   ],
   "source": [
    "subprocess.call(['ls', '-l'])"
   ]
  },
  {
   "cell_type": "code",
   "execution_count": 39,
   "id": "4d2890c7",
   "metadata": {},
   "outputs": [],
   "source": [
    "output = subprocess.check_output(['ls', '-l'])"
   ]
  },
  {
   "cell_type": "code",
   "execution_count": 40,
   "id": "7ba4898a",
   "metadata": {},
   "outputs": [
    {
     "data": {
      "text/plain": [
       "b'total 51856\\n-rw-rw-r-- 1 m1049296 m1049296    13580 Oct 21 22:05 decision_tree.ipynb\\n-rw-rw-r-- 1 m1049296 m1049296        0 Jan  2 00:17 file.txt\\n-rw-rw-r-- 1 m1049296 m1049296    68427 Oct 30 22:38 kag_course_intermmediate_categorical_values.ipynb\\ndrwxrwxr-x 3 m1049296 m1049296     4096 Oct 15 10:51 kaggle_intro_to_ML\\n-rw-rw-r-- 1 m1049296 m1049296    23537 Nov  5 16:39 pandas_kaggle_exercises.ipynb\\n-rw-rw-r-- 1 m1049296 m1049296    22881 Sep 17 10:10 sam1.ipynb\\n-rw-rw-r-- 1 m1049296 m1049296    18622 Oct  3 00:34 SVM.ipynb\\n-rw-rw-r-- 1 m1049296 m1049296      589 Oct 21 20:12 Untitled1.ipynb\\n-rw-rw-r-- 1 m1049296 m1049296 52908706 Oct  3  2019 winemag-data-130k-v2.csv\\n-rw-rw-r-- 1 m1049296 m1049296    22132 Jan  2 00:16 workbook.ipynb\\n'"
      ]
     },
     "execution_count": 40,
     "metadata": {},
     "output_type": "execute_result"
    }
   ],
   "source": [
    "output"
   ]
  },
  {
   "cell_type": "code",
   "execution_count": 41,
   "id": "3788fa5f",
   "metadata": {},
   "outputs": [
    {
     "name": "stdout",
     "output_type": "stream",
     "text": [
      "Requirement already satisfied: ipywidgets in /home/m1049296/.local/lib/python3.8/site-packages (7.6.5)\n",
      "Requirement already satisfied: traitlets>=4.3.1 in /home/m1049296/.local/lib/python3.8/site-packages (from ipywidgets) (5.0.5)\n",
      "Requirement already satisfied: ipykernel>=4.5.1 in /home/m1049296/.local/lib/python3.8/site-packages (from ipywidgets) (6.0.3)\n",
      "Requirement already satisfied: ipython-genutils~=0.2.0 in /home/m1049296/.local/lib/python3.8/site-packages (from ipywidgets) (0.2.0)\n",
      "Requirement already satisfied: jupyterlab-widgets>=1.0.0; python_version >= \"3.6\" in /home/m1049296/.local/lib/python3.8/site-packages (from ipywidgets) (1.0.2)\n",
      "Requirement already satisfied: widgetsnbextension~=3.5.0 in /home/m1049296/.local/lib/python3.8/site-packages (from ipywidgets) (3.5.2)\n",
      "Requirement already satisfied: nbformat>=4.2.0 in /home/m1049296/.local/lib/python3.8/site-packages (from ipywidgets) (5.1.3)\n",
      "Requirement already satisfied: ipython>=4.0.0; python_version >= \"3.3\" in /home/m1049296/.local/lib/python3.8/site-packages (from ipywidgets) (7.25.0)\n",
      "Requirement already satisfied: jupyter-client<7.0 in /home/m1049296/.local/lib/python3.8/site-packages (from ipykernel>=4.5.1->ipywidgets) (6.1.12)\n",
      "Requirement already satisfied: debugpy<2.0,>=1.0.0 in /home/m1049296/.local/lib/python3.8/site-packages (from ipykernel>=4.5.1->ipywidgets) (1.4.1)\n",
      "Requirement already satisfied: matplotlib-inline<0.2.0,>=0.1.0 in /home/m1049296/.local/lib/python3.8/site-packages (from ipykernel>=4.5.1->ipywidgets) (0.1.2)\n",
      "Requirement already satisfied: tornado<7.0,>=4.2 in /home/m1049296/.local/lib/python3.8/site-packages (from ipykernel>=4.5.1->ipywidgets) (6.1)\n",
      "Requirement already satisfied: notebook>=4.4.1 in /home/m1049296/.local/lib/python3.8/site-packages (from widgetsnbextension~=3.5.0->ipywidgets) (6.4.0)\n",
      "Requirement already satisfied: jupyter-core in /home/m1049296/.local/lib/python3.8/site-packages (from nbformat>=4.2.0->ipywidgets) (4.7.1)\n",
      "Requirement already satisfied: jsonschema!=2.5.0,>=2.4 in /home/m1049296/.local/lib/python3.8/site-packages (from nbformat>=4.2.0->ipywidgets) (3.2.0)\n",
      "Requirement already satisfied: setuptools>=18.5 in /home/m1049296/.local/lib/python3.8/site-packages (from ipython>=4.0.0; python_version >= \"3.3\"->ipywidgets) (57.4.0)\n",
      "Requirement already satisfied: pickleshare in /home/m1049296/.local/lib/python3.8/site-packages (from ipython>=4.0.0; python_version >= \"3.3\"->ipywidgets) (0.7.5)\n",
      "Requirement already satisfied: pygments in /home/m1049296/.local/lib/python3.8/site-packages (from ipython>=4.0.0; python_version >= \"3.3\"->ipywidgets) (2.9.0)\n",
      "Requirement already satisfied: prompt-toolkit!=3.0.0,!=3.0.1,<3.1.0,>=2.0.0 in /home/m1049296/.local/lib/python3.8/site-packages (from ipython>=4.0.0; python_version >= \"3.3\"->ipywidgets) (3.0.19)\n",
      "Requirement already satisfied: backcall in /home/m1049296/.local/lib/python3.8/site-packages (from ipython>=4.0.0; python_version >= \"3.3\"->ipywidgets) (0.2.0)\n",
      "Requirement already satisfied: decorator in /home/m1049296/.local/lib/python3.8/site-packages (from ipython>=4.0.0; python_version >= \"3.3\"->ipywidgets) (5.0.9)\n",
      "Requirement already satisfied: jedi>=0.16 in /home/m1049296/.local/lib/python3.8/site-packages (from ipython>=4.0.0; python_version >= \"3.3\"->ipywidgets) (0.18.0)\n",
      "Requirement already satisfied: pexpect>4.3; sys_platform != \"win32\" in /usr/lib/python3/dist-packages (from ipython>=4.0.0; python_version >= \"3.3\"->ipywidgets) (4.6.0)\n",
      "Requirement already satisfied: python-dateutil>=2.1 in /usr/lib/python3/dist-packages (from jupyter-client<7.0->ipykernel>=4.5.1->ipywidgets) (2.7.3)\n",
      "Requirement already satisfied: pyzmq>=13 in /home/m1049296/.local/lib/python3.8/site-packages (from jupyter-client<7.0->ipykernel>=4.5.1->ipywidgets) (22.1.0)\n",
      "Requirement already satisfied: jinja2 in /home/m1049296/.local/lib/python3.8/site-packages (from notebook>=4.4.1->widgetsnbextension~=3.5.0->ipywidgets) (3.0.1)\n",
      "Requirement already satisfied: nbconvert in /home/m1049296/.local/lib/python3.8/site-packages (from notebook>=4.4.1->widgetsnbextension~=3.5.0->ipywidgets) (6.1.0)\n",
      "Requirement already satisfied: Send2Trash>=1.5.0 in /home/m1049296/.local/lib/python3.8/site-packages (from notebook>=4.4.1->widgetsnbextension~=3.5.0->ipywidgets) (1.7.1)\n",
      "Requirement already satisfied: terminado>=0.8.3 in /home/m1049296/.local/lib/python3.8/site-packages (from notebook>=4.4.1->widgetsnbextension~=3.5.0->ipywidgets) (0.10.1)\n",
      "Requirement already satisfied: prometheus-client in /home/m1049296/.local/lib/python3.8/site-packages (from notebook>=4.4.1->widgetsnbextension~=3.5.0->ipywidgets) (0.11.0)\n",
      "Requirement already satisfied: argon2-cffi in /home/m1049296/.local/lib/python3.8/site-packages (from notebook>=4.4.1->widgetsnbextension~=3.5.0->ipywidgets) (20.1.0)\n",
      "Requirement already satisfied: attrs>=17.4.0 in /home/m1049296/.local/lib/python3.8/site-packages (from jsonschema!=2.5.0,>=2.4->nbformat>=4.2.0->ipywidgets) (21.2.0)\n",
      "Requirement already satisfied: six>=1.11.0 in /home/m1049296/.local/lib/python3.8/site-packages (from jsonschema!=2.5.0,>=2.4->nbformat>=4.2.0->ipywidgets) (1.15.0)\n",
      "Requirement already satisfied: pyrsistent>=0.14.0 in /home/m1049296/.local/lib/python3.8/site-packages (from jsonschema!=2.5.0,>=2.4->nbformat>=4.2.0->ipywidgets) (0.18.0)\n",
      "Requirement already satisfied: wcwidth in /home/m1049296/.local/lib/python3.8/site-packages (from prompt-toolkit!=3.0.0,!=3.0.1,<3.1.0,>=2.0.0->ipython>=4.0.0; python_version >= \"3.3\"->ipywidgets) (0.2.5)\n",
      "Requirement already satisfied: parso<0.9.0,>=0.8.0 in /home/m1049296/.local/lib/python3.8/site-packages (from jedi>=0.16->ipython>=4.0.0; python_version >= \"3.3\"->ipywidgets) (0.8.2)\n",
      "Requirement already satisfied: MarkupSafe>=2.0 in /home/m1049296/.local/lib/python3.8/site-packages (from jinja2->notebook>=4.4.1->widgetsnbextension~=3.5.0->ipywidgets) (2.0.1)\n",
      "Requirement already satisfied: pandocfilters>=1.4.1 in /home/m1049296/.local/lib/python3.8/site-packages (from nbconvert->notebook>=4.4.1->widgetsnbextension~=3.5.0->ipywidgets) (1.4.3)\n",
      "Requirement already satisfied: entrypoints>=0.2.2 in /usr/lib/python3/dist-packages (from nbconvert->notebook>=4.4.1->widgetsnbextension~=3.5.0->ipywidgets) (0.3)\n",
      "Requirement already satisfied: bleach in /home/m1049296/.local/lib/python3.8/site-packages (from nbconvert->notebook>=4.4.1->widgetsnbextension~=3.5.0->ipywidgets) (3.3.1)\n",
      "Requirement already satisfied: testpath in /home/m1049296/.local/lib/python3.8/site-packages (from nbconvert->notebook>=4.4.1->widgetsnbextension~=3.5.0->ipywidgets) (0.5.0)\n",
      "Requirement already satisfied: nbclient<0.6.0,>=0.5.0 in /home/m1049296/.local/lib/python3.8/site-packages (from nbconvert->notebook>=4.4.1->widgetsnbextension~=3.5.0->ipywidgets) (0.5.3)\n",
      "Requirement already satisfied: defusedxml in /home/m1049296/.local/lib/python3.8/site-packages (from nbconvert->notebook>=4.4.1->widgetsnbextension~=3.5.0->ipywidgets) (0.7.1)\n",
      "Requirement already satisfied: mistune<2,>=0.8.1 in /home/m1049296/.local/lib/python3.8/site-packages (from nbconvert->notebook>=4.4.1->widgetsnbextension~=3.5.0->ipywidgets) (0.8.4)\n",
      "Requirement already satisfied: jupyterlab-pygments in /home/m1049296/.local/lib/python3.8/site-packages (from nbconvert->notebook>=4.4.1->widgetsnbextension~=3.5.0->ipywidgets) (0.1.2)\n",
      "Requirement already satisfied: ptyprocess; os_name != \"nt\" in /home/m1049296/.local/lib/python3.8/site-packages (from terminado>=0.8.3->notebook>=4.4.1->widgetsnbextension~=3.5.0->ipywidgets) (0.7.0)\n",
      "Requirement already satisfied: cffi>=1.0.0 in /home/m1049296/.local/lib/python3.8/site-packages (from argon2-cffi->notebook>=4.4.1->widgetsnbextension~=3.5.0->ipywidgets) (1.14.6)\n",
      "Requirement already satisfied: packaging in /home/m1049296/.local/lib/python3.8/site-packages (from bleach->nbconvert->notebook>=4.4.1->widgetsnbextension~=3.5.0->ipywidgets) (21.0)\n",
      "Requirement already satisfied: webencodings in /home/m1049296/.local/lib/python3.8/site-packages (from bleach->nbconvert->notebook>=4.4.1->widgetsnbextension~=3.5.0->ipywidgets) (0.5.1)\n",
      "Requirement already satisfied: async-generator in /home/m1049296/.local/lib/python3.8/site-packages (from nbclient<0.6.0,>=0.5.0->nbconvert->notebook>=4.4.1->widgetsnbextension~=3.5.0->ipywidgets) (1.10)\n",
      "Requirement already satisfied: nest-asyncio in /home/m1049296/.local/lib/python3.8/site-packages (from nbclient<0.6.0,>=0.5.0->nbconvert->notebook>=4.4.1->widgetsnbextension~=3.5.0->ipywidgets) (1.5.1)\n",
      "Requirement already satisfied: pycparser in /home/m1049296/.local/lib/python3.8/site-packages (from cffi>=1.0.0->argon2-cffi->notebook>=4.4.1->widgetsnbextension~=3.5.0->ipywidgets) (2.20)\n",
      "Requirement already satisfied: pyparsing>=2.0.2 in /home/m1049296/.local/lib/python3.8/site-packages (from packaging->bleach->nbconvert->notebook>=4.4.1->widgetsnbextension~=3.5.0->ipywidgets) (2.4.7)\n"
     ]
    }
   ],
   "source": [
    "!pip3 install ipywidgets\n"
   ]
  },
  {
   "cell_type": "code",
   "execution_count": 50,
   "id": "48b0da91",
   "metadata": {},
   "outputs": [
    {
     "name": "stdout",
     "output_type": "stream",
     "text": [
      "Enabling notebook extension jupyter-js-widgets/extension...\r\n",
      "      - Validating: \u001b[32mOK\u001b[0m\r\n"
     ]
    }
   ],
   "source": [
    "!jupyter nbextension enable --py widgetsnbextension"
   ]
  },
  {
   "cell_type": "code",
   "execution_count": 1,
   "id": "ae8818e2",
   "metadata": {},
   "outputs": [],
   "source": [
    "from ipywidgets import interact, interactive, fixed, interact_manual\n",
    "import ipywidgets as widgets"
   ]
  },
  {
   "cell_type": "code",
   "execution_count": 2,
   "id": "2f8eb58e",
   "metadata": {},
   "outputs": [
    {
     "data": {
      "application/vnd.jupyter.widget-view+json": {
       "model_id": "449284378b6147fe91da213c9a39b1f3",
       "version_major": 2,
       "version_minor": 0
      },
      "text/plain": [
       "IntSlider(value=10, continuous_update=False, description='Range slider', max=20, min=-5)"
      ]
     },
     "metadata": {},
     "output_type": "display_data"
    }
   ],
   "source": [
    "widgets.IntSlider(value=10,\n",
    "                      min=-5,\n",
    "                      max=20,\n",
    "                      step=1,\n",
    "                      description='Range slider',\n",
    "                      continuous_update=False,\n",
    "                      orientation='horizontal')"
   ]
  },
  {
   "cell_type": "code",
   "execution_count": 56,
   "id": "f49cb5d0",
   "metadata": {},
   "outputs": [
    {
     "data": {
      "application/vnd.jupyter.widget-view+json": {
       "model_id": "e5a53eeebc674feca81d42d8c86640b5",
       "version_major": 2,
       "version_minor": 0
      },
      "text/plain": [
       "IntSlider(value=10, continuous_update=False, description='Range slider', max=20, min=-5)"
      ]
     },
     "metadata": {},
     "output_type": "display_data"
    }
   ],
   "source": [
    "w"
   ]
  }
 ],
 "metadata": {
  "kernelspec": {
   "display_name": "Python 3 (ipykernel)",
   "language": "python",
   "name": "python3"
  },
  "language_info": {
   "codemirror_mode": {
    "name": "ipython",
    "version": 3
   },
   "file_extension": ".py",
   "mimetype": "text/x-python",
   "name": "python",
   "nbconvert_exporter": "python",
   "pygments_lexer": "ipython3",
   "version": "3.8.10"
  }
 },
 "nbformat": 4,
 "nbformat_minor": 5
}
